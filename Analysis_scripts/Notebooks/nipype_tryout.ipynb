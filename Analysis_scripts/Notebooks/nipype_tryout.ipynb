{
 "cells": [
  {
   "cell_type": "markdown",
   "metadata": {},
   "source": [
    "# Nipype processing pipeline for fMRI data\n",
    "This notebook describes the construction of a processing pipeline for fMRI data, \n",
    "partly based on an existing pipeline coded in MATLAB. It uses the [nipype](http://nipy.sourceforge.net/nipype/) environment\n",
    "(Gorgolewski K., et al. (2011). Front. Neurinform. 5:13), in which a combination of\n",
    "FSL-software, shell commands, R-code (mainly plotting with ggplot2), and custom \n",
    "Python scripts are used. This pipeline aims at easy, parallel (pre)processing of \n",
    "fMRI data for univariate and multivariate analyses. In the future, this pipeline \n",
    "should prepare single-trial fMRI data to be analysed with the scikit-learn package. \n",
    "\n",
    "Author: Lukas Snoek, University of Amsterdam, lukassnoek@gmail.com\n",
    "\n",
    "To do:\n",
    "- Physiological noise regressors in FSL >> write script using FSL's PNM\n",
    "- Implement call to matlab-script of Steven's MSTC-function\n",
    "- Use absolute paths in glob.glob >> funcDirs: USE os.path.abspath()\n",
    "\n",
    "Notes to Self:\n",
    "- If there is no output, check the directory! (print os.getwd())\n",
    "- import deeply nested modules with the \"as\" suffix\n",
    "\n",
    "Cool stuff:\n",
    "- Start using bookmarks using %bookmark name (pwd gets saved into \"name\")\n",
    "- %alias for (long) shell commands\n",
    "- %run -t (timit, but once for one script)\n",
    "- %run -p (runs profiler, time for each function in script)"
   ]
  },
  {
   "cell_type": "markdown",
   "metadata": {},
   "source": [
    "## Packages and settings\n",
    "Below, necessary packages are imported and some pipeline-specific variables are defined.\n"
   ]
  },
  {
   "cell_type": "code",
   "execution_count": 1,
   "metadata": {
    "collapsed": false
   },
   "outputs": [
    {
     "name": "stdout",
     "output_type": "stream",
     "text": [
      "Populating the interactive namespace from numpy and matplotlib\n"
     ]
    }
   ],
   "source": [
    "# Importing necessary packages\n",
    "%pylab inline\n",
    "import nipype.interfaces.fsl as fsl\n",
    "import nipype.interfaces.io as nio\n",
    "import nipype.pipeline.engine as pe\n",
    "import nipype.interfaces.utility as util\n",
    "from IPython.display import Image\n",
    "import os\n",
    "import glob\n",
    "import warnings\n",
    "import shutil\n",
    "\n",
    "import sys\n",
    "sys.path.append(\"/home/lukas/Dropbox/ResMas_UvA/Thesis/Git/Analysis_scripts/modules\")"
   ]
  },
  {
   "cell_type": "markdown",
   "metadata": {},
   "source": [
    "This is how the directory structure should look like:"
   ]
  },
  {
   "cell_type": "code",
   "execution_count": 2,
   "metadata": {
    "collapsed": false
   },
   "outputs": [
    {
     "data": {
      "image/png": "[encoded data removed]",
      "text/plain": [
       "<IPython.core.display.Image at 0x7fd25e05e650>"
      ]
     },
     "execution_count": 2,
     "metadata": {},
     "output_type": "execute_result"
    }
   ],
   "source": [
    "Image(filename='nipype_dirstructure.png')"
   ]
  },
  {
   "cell_type": "code",
   "execution_count": 2,
   "metadata": {
    "collapsed": false
   },
   "outputs": [],
   "source": [
    "# Specification of pipeline-general variables\n",
    "homeDir = '/media/lukas/Data/Sample_fMRI' \n",
    "ToProcess = homeDir + '/ToProcess'\n",
    "subject_stem = 'HWW_'\n",
    "study_stem = 'PM'\n",
    "\n",
    "# Physiological files should have the extension .phy (not .log, bc of confusion with presentation-files)"
   ]
  },
  {
   "cell_type": "markdown",
   "metadata": {},
   "source": [
    "## Creation of folder structure\n",
    "Given that all files are dumped in the homeDir, the code below sorts and stores the files in specific subject-directories with appropriate subdirectories for different structural (T1) and functional files. Also, to prepare processing with FSL, par/rec files are converted to zipped nifti (nii.gz) files. The original par/rec files stored in a back-up folder"
   ]
  },
  {
   "cell_type": "code",
   "execution_count": 3,
   "metadata": {
    "collapsed": false
   },
   "outputs": [],
   "source": [
    "import createDirStructure as cds\n",
    "os.chdir(homeDir)"
   ]
  },
  {
   "cell_type": "code",
   "execution_count": 7,
   "metadata": {
    "collapsed": false
   },
   "outputs": [
    {
     "name": "stdout",
     "output_type": "stream",
     "text": [
      "Working on par/rec conversion ...\n",
      "Converted 8 files\n",
      "Back-up completed for 8 files\n"
     ]
    }
   ],
   "source": [
    "cds.convert_parrec2nii(homeDir, remove_nifti = 1)\n",
    "cds.backup_parrec(homeDir)"
   ]
  },
  {
   "cell_type": "code",
   "execution_count": 8,
   "metadata": {
    "collapsed": false
   },
   "outputs": [
    {
     "name": "stdout",
     "output_type": "stream",
     "text": [
      "Moved 1 files to ToProcess\n"
     ]
    }
   ],
   "source": [
    "cds.movefiles_ToProcess(homeDir, subject_stem = 'HWW_')"
   ]
  },
  {
   "cell_type": "code",
   "execution_count": 5,
   "metadata": {
    "collapsed": false
   },
   "outputs": [
    {
     "name": "stdout",
     "output_type": "stream",
     "text": [
      "Created the following subdirs for HWW_007: \n",
      "PM_Zinnen2\n",
      "sT13DTFE_P25_S2_3m\n",
      "PM_HWW\n",
      "PM_Zinnen1\n",
      "\n",
      "\n",
      "Created the following subdirs for HWW_008: \n",
      "PM_HWW\n",
      "PM_Zinnen1\n",
      "PM_Zinnen2\n",
      "sT13DTFE_P25_S2_3m\n",
      "\n",
      "\n"
     ]
    },
    {
     "name": "stderr",
     "output_type": "stream",
     "text": [
      "createDirStructure.py:95: UserWarning: There are 1 unallocated files in ToProcess\n",
      "  warnings.warn('There are %s unallocated files in ToProcess' % unallocated)\n"
     ]
    }
   ],
   "source": [
    "cds.movefiles_subjectdirs(subject_stem, ToProcess)"
   ]
  },
  {
   "cell_type": "markdown",
   "metadata": {},
   "source": [
    "By now, there should be a log-dir, backup-dir, and most importantly a ToProcess-dir, where all preprocessing will be done. Below, the ToProcess directory will be structured as containing subject-subdirectories, which in turn contain separate subdirectories for different functional and a structural (T1) directory."
   ]
  },
  {
   "cell_type": "code",
   "execution_count": 11,
   "metadata": {
    "collapsed": false
   },
   "outputs": [
    {
     "name": "stdout",
     "output_type": "stream",
     "text": [
      "bet /media/lukas/Data/Sample_fMRI/ToProcess/HWW_008/sT13DTFE_P25_S2_3m/HWW_008_WIP_sT13DTFE_P25_S2_3m_SENSE_3_1.nii.gz /media/lukas/Data/Sample_fMRI/HWW_008_WIP_sT13DTFE_P25_S2_3m_SENSE_3_1_brain.nii.gz\n"
     ]
    }
   ],
   "source": [
    "# Start nipype\n",
    "T1_paths,T1_names = cds.get_filepaths('WIP_sT1',ToProcess)\n",
    "skullstrip_outpaths = [os.path.dirname(path) + '/betted.nii.gz' for path in T1_paths]\n",
    "\n",
    "skullstrip = fsl.BET()\n",
    "skullstrip.inputs.in_file = T1_paths[0]\n",
    "bet_results = skullstrip.run()\n",
    "\n",
    "#skullstrip = pe.MapNode(interface = fsl.BET(), name=\"skullstrip\", iterfield = ['in_file'])\n",
    "#smooth = pe.MapNode(interface = fsl.IsotropicSmooth(), name=\"smooth\", iterfield = ['in_file'])\n",
    "#skullstrip.inputs.in_file = T1_paths\n",
    "#skullstrip.inputs.out_file = \"test\"\n",
    "#skullstrip.\n",
    "#bet_results = skullstrip.run()"
   ]
  },
  {
   "cell_type": "code",
   "execution_count": 11,
   "metadata": {
    "collapsed": false
   },
   "outputs": [
    {
     "name": "stdout",
     "output_type": "stream",
     "text": [
      "\u001b[0m\u001b[01;34mLogs\u001b[0m/  \u001b[01;34mPARREC_backup\u001b[0m/  \u001b[01;34mToProcess\u001b[0m/\r\n"
     ]
    }
   ],
   "source": [
    "%ls"
   ]
  }
 ],
 "metadata": {
  "kernelspec": {
   "display_name": "Python 2",
   "language": "python",
   "name": "python2"
  }
 },
 "nbformat": 4,
 "nbformat_minor": 0
}
