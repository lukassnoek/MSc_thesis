{
 "metadata": {
  "name": "",
  "signature": "sha256:9a208d9cf874e7441ff5e29ef4fa1600860325540c4913bc0600b69a60b68636"
 },
 "nbformat": 3,
 "nbformat_minor": 0,
 "worksheets": [
  {
   "cells": [
    {
     "cell_type": "code",
     "collapsed": false,
     "input": [
      "# Importing necessary packages\n",
      "%pylab inline\n",
      "import nipype.interfaces.fsl as fsl\n",
      "import nipype.interfaces.io as nio\n",
      "import nipype.pipeline.engine as pe\n",
      "import nipype.interfaces.utility as util\n",
      "from IPython.display import Image\n",
      "import os\n",
      "import glob\n",
      "import warnings\n",
      "import shutil\n",
      "\n",
      "import sys\n",
      "sys.path.append(\"/home/lukas/Dropbox/ResMas_UvA/Thesis/Git/Nipype/\")"
     ],
     "language": "python",
     "metadata": {},
     "outputs": [
      {
       "output_type": "stream",
       "stream": "stdout",
       "text": [
        "Populating the interactive namespace from numpy and matplotlib\n"
       ]
      }
     ],
     "prompt_number": 1
    },
    {
     "cell_type": "code",
     "collapsed": false,
     "input": [
      "import glm2mvpa\n",
      "firstlevel_dir = '/media/lukas/Data/Matlab2Python/FirstLevel'\n",
      "mask_dir = '/media/lukas/Data/Matlab2Python/FSL_masks/WholeBrain/GrayMatter.nii.gz'"
     ],
     "language": "python",
     "metadata": {},
     "outputs": [],
     "prompt_number": 3
    },
    {
     "cell_type": "code",
     "collapsed": false,
     "input": [
      "glm2mvpa.create_subject_mats(firstlevel_dir, mask_dir, 'hww')"
     ],
     "language": "python",
     "metadata": {},
     "outputs": [
      {
       "output_type": "stream",
       "stream": "stdout",
       "text": [
        "Processing hww001_zinnen1\n",
        "Saving MVPA data from hww001_zinnen1"
       ]
      },
      {
       "output_type": "stream",
       "stream": "stdout",
       "text": [
        "\n",
        "Processing hww001_zinnen2\n",
        "Saving MVPA data from hww001_zinnen2"
       ]
      },
      {
       "output_type": "stream",
       "stream": "stdout",
       "text": [
        "\n",
        "Created 2 MVPA matrices\n"
       ]
      },
      {
       "metadata": {},
       "output_type": "display_data",
       "png": "[encoded data removed]",
       "text": [
        "<matplotlib.figure.Figure at 0x7f7b17acd890>"
       ]
      }
     ],
     "prompt_number": 4
    },
    {
     "cell_type": "code",
     "collapsed": false,
     "input": [],
     "language": "python",
     "metadata": {},
     "outputs": []
    }
   ],
   "metadata": {}
  }
 ]
}