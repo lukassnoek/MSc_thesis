{
 "metadata": {
  "name": "",
  "signature": "sha256:d0c1b059f22c60deddfccd7b13a9b5bedf5ae5ce3200f9c1b66dfb5df2f8dee5"
 },
 "nbformat": 3,
 "nbformat_minor": 0,
 "worksheets": [
  {
   "cells": [
    {
     "cell_type": "code",
     "collapsed": false,
     "input": [
      "# Importing necessary packages\n",
      "%pylab inline\n",
      "import nipype.interfaces.fsl as fsl\n",
      "import nipype.interfaces.io as nio\n",
      "import nipype.pipeline.engine as pe\n",
      "import nipype.interfaces.utility as util\n",
      "from IPython.display import Image\n",
      "import os\n",
      "import glob\n",
      "import warnings\n",
      "import shutil\n",
      "\n",
      "import sys\n",
      "sys.path.append(\"/home/lukas/Dropbox/ResMas_UvA/Thesis/Git/Nipype/\")"
     ],
     "language": "python",
     "metadata": {},
     "outputs": [
      {
       "output_type": "stream",
       "stream": "stdout",
       "text": [
        "Populating the interactive namespace from numpy and matplotlib\n"
       ]
      }
     ],
     "prompt_number": 1
    },
    {
     "cell_type": "code",
     "collapsed": false,
     "input": [
      "import glm2mvpa\n",
      "analysis_dir = '/media/lukas/Data/Matlab2Python/'\n",
      "os.chdir(analysis_dir)"
     ],
     "language": "python",
     "metadata": {},
     "outputs": [],
     "prompt_number": 2
    },
    {
     "cell_type": "code",
     "collapsed": false,
     "input": [
      "glm2mvpa.create_subject_mats(os.getcwd() + '/FirstLevel',[])"
     ],
     "language": "python",
     "metadata": {},
     "outputs": [
      {
       "output_type": "stream",
       "stream": "stdout",
       "text": [
        "Created 2 MVPA matrices\n"
       ]
      }
     ],
     "prompt_number": 3
    },
    {
     "cell_type": "code",
     "collapsed": false,
     "input": [],
     "language": "python",
     "metadata": {},
     "outputs": []
    }
   ],
   "metadata": {}
  }
 ]
}